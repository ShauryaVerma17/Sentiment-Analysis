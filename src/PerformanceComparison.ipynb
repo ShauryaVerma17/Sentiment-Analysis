{
 "cells": [
  {
   "cell_type": "markdown",
   "metadata": {},
   "source": [
    "### Importing Libraries"
   ]
  },
  {
   "cell_type": "code",
   "execution_count": 1,
   "metadata": {},
   "outputs": [],
   "source": [
    "import nltk\n",
    "from nltk.sentiment import SentimentIntensityAnalyzer\n",
    "#nltk.downloader.download('vader_lexicon')\n",
    "from transformers import AutoModelForSequenceClassification, AutoTokenizer\n",
    "from scipy.special import softmax\n",
    "import pandas as pd\n",
    "from tqdm.notebook import tqdm"
   ]
  },
  {
   "cell_type": "markdown",
   "metadata": {},
   "source": [
    "### Setting up the two approaches "
   ]
  },
  {
   "cell_type": "markdown",
   "metadata": {},
   "source": [
    "#### VADER"
   ]
  },
  {
   "cell_type": "code",
   "execution_count": 2,
   "metadata": {},
   "outputs": [],
   "source": [
    "sia = SentimentIntensityAnalyzer()\n",
    "\n",
    "def do_analysis_vader(text):\n",
    "    return sia.polarity_scores(text)"
   ]
  },
  {
   "cell_type": "markdown",
   "metadata": {},
   "source": [
    "#### Encoder Only Transformer Model"
   ]
  },
  {
   "cell_type": "code",
   "execution_count": null,
   "metadata": {},
   "outputs": [],
   "source": [
    "MODEL_NAME = f\"cardiffnlp/twitter-roberta-base-sentiment-latest\"\n",
    "tokenizer = AutoTokenizer.from_pretrained(MODEL_NAME)\n",
    "model = AutoModelForSequenceClassification.from_pretrained(MODEL_NAME)\n",
    "\n",
    "def do_analysis_transformer(text):\n",
    "    tokens = tokenizer(text, return_tensors='pt')\n",
    "    output = model(**tokens)\n",
    "    scores = output[0][0].detach().numpy()\n",
    "    scores = softmax(scores)\n",
    "    return scores"
   ]
  },
  {
   "cell_type": "markdown",
   "metadata": {},
   "source": [
    "### Method to Compare Approaches"
   ]
  },
  {
   "cell_type": "code",
   "execution_count": 4,
   "metadata": {},
   "outputs": [],
   "source": [
    "def compare_approaches(text):\n",
    "    vader_results = do_analysis_vader(text)\n",
    "    transformer_result = do_analysis_transformer(text)\n",
    "\n",
    "    results = {\"Category\" : [\"Negative\", \"Neutral\", \"Positive\"],\n",
    "               \"VADER\" : [vader_results[\"neg\"], vader_results[\"neu\"], vader_results[\"pos\"]],\n",
    "               \"Transformer\" : [transformer_result[0], transformer_result[1], transformer_result[2]]               \n",
    "               }\n",
    "    results_df = pd.DataFrame(results)\n",
    "\n",
    "    print(\"Text : \", text)\n",
    "    print(\"\\nResults\\n\", results_df)"
   ]
  },
  {
   "cell_type": "markdown",
   "metadata": {},
   "source": [
    "### Comparison"
   ]
  },
  {
   "cell_type": "markdown",
   "metadata": {},
   "source": [
    "#### Comparison using regular text messages"
   ]
  },
  {
   "cell_type": "code",
   "execution_count": 5,
   "metadata": {},
   "outputs": [
    {
     "name": "stdout",
     "output_type": "stream",
     "text": [
      "Text :  I fell in the mud today\n",
      "\n",
      "Results\n",
      "    Category  VADER  Transformer\n",
      "0  Negative    0.0     0.780168\n",
      "1   Neutral    1.0     0.199560\n",
      "2  Positive    0.0     0.020272\n"
     ]
    }
   ],
   "source": [
    "compare_approaches(\"I fell in the mud today\")"
   ]
  },
  {
   "cell_type": "code",
   "execution_count": 6,
   "metadata": {},
   "outputs": [
    {
     "name": "stdout",
     "output_type": "stream",
     "text": [
      "Text :  I hate my life\n",
      "\n",
      "Results\n",
      "    Category  VADER  Transformer\n",
      "0  Negative  0.649     0.854381\n",
      "1   Neutral  0.351     0.114677\n",
      "2  Positive  0.000     0.030941\n"
     ]
    }
   ],
   "source": [
    "compare_approaches(\"I hate my life\")"
   ]
  },
  {
   "cell_type": "code",
   "execution_count": 7,
   "metadata": {},
   "outputs": [
    {
     "name": "stdout",
     "output_type": "stream",
     "text": [
      "Text :  Oh Great! I lost\n",
      "\n",
      "Results\n",
      "    Category  VADER  Transformer\n",
      "0  Negative  0.299     0.844328\n",
      "1   Neutral  0.130     0.118721\n",
      "2  Positive  0.571     0.036952\n"
     ]
    }
   ],
   "source": [
    "compare_approaches(\"Oh Great! I lost\")"
   ]
  },
  {
   "cell_type": "code",
   "execution_count": 8,
   "metadata": {},
   "outputs": [
    {
     "name": "stdout",
     "output_type": "stream",
     "text": [
      "Text :  You're really not that funny\n",
      "\n",
      "Results\n",
      "    Category  VADER  Transformer\n",
      "0  Negative    0.4     0.889141\n",
      "1   Neutral    0.6     0.096598\n",
      "2  Positive    0.0     0.014261\n"
     ]
    }
   ],
   "source": [
    "compare_approaches(\"You're really not that funny\")"
   ]
  },
  {
   "cell_type": "code",
   "execution_count": 9,
   "metadata": {},
   "outputs": [
    {
     "name": "stdout",
     "output_type": "stream",
     "text": [
      "Text :  :)\n",
      "\n",
      "Results\n",
      "    Category  VADER  Transformer\n",
      "0  Negative    0.0     0.011871\n",
      "1   Neutral    0.0     0.046397\n",
      "2  Positive    1.0     0.941732\n"
     ]
    }
   ],
   "source": [
    "compare_approaches(\":)\")"
   ]
  },
  {
   "cell_type": "code",
   "execution_count": 10,
   "metadata": {},
   "outputs": [
    {
     "name": "stdout",
     "output_type": "stream",
     "text": [
      "Text :  :(\n",
      "\n",
      "Results\n",
      "    Category  VADER  Transformer\n",
      "0  Negative    1.0     0.654244\n",
      "1   Neutral    0.0     0.266964\n",
      "2  Positive    0.0     0.078792\n"
     ]
    }
   ],
   "source": [
    "compare_approaches(\":(\")"
   ]
  },
  {
   "cell_type": "code",
   "execution_count": 11,
   "metadata": {},
   "outputs": [
    {
     "name": "stdout",
     "output_type": "stream",
     "text": [
      "Text :  :D\n",
      "\n",
      "Results\n",
      "    Category  VADER  Transformer\n",
      "0  Negative    0.0     0.010884\n",
      "1   Neutral    0.0     0.051635\n",
      "2  Positive    1.0     0.937480\n"
     ]
    }
   ],
   "source": [
    "compare_approaches(\":D\")"
   ]
  },
  {
   "cell_type": "code",
   "execution_count": 12,
   "metadata": {},
   "outputs": [
    {
     "name": "stdout",
     "output_type": "stream",
     "text": [
      "Text :  I hate myself :)\n",
      "\n",
      "Results\n",
      "    Category  VADER  Transformer\n",
      "0  Negative  0.481     0.891915\n",
      "1   Neutral  0.130     0.087239\n",
      "2  Positive  0.390     0.020846\n"
     ]
    }
   ],
   "source": [
    "compare_approaches(\"I hate myself :)\")"
   ]
  },
  {
   "cell_type": "markdown",
   "metadata": {},
   "source": [
    "#### Comparison using data set of reviews"
   ]
  },
  {
   "cell_type": "code",
   "execution_count": 19,
   "metadata": {},
   "outputs": [
    {
     "data": {
      "text/html": [
       "<div>\n",
       "<style scoped>\n",
       "    .dataframe tbody tr th:only-of-type {\n",
       "        vertical-align: middle;\n",
       "    }\n",
       "\n",
       "    .dataframe tbody tr th {\n",
       "        vertical-align: top;\n",
       "    }\n",
       "\n",
       "    .dataframe thead th {\n",
       "        text-align: right;\n",
       "    }\n",
       "</style>\n",
       "<table border=\"1\" class=\"dataframe\">\n",
       "  <thead>\n",
       "    <tr style=\"text-align: right;\">\n",
       "      <th></th>\n",
       "      <th>Review</th>\n",
       "      <th>Sentiment</th>\n",
       "    </tr>\n",
       "  </thead>\n",
       "  <tbody>\n",
       "    <tr>\n",
       "      <th>0</th>\n",
       "      <td>Fast shipping but this product is very cheaply...</td>\n",
       "      <td>1</td>\n",
       "    </tr>\n",
       "    <tr>\n",
       "      <th>1</th>\n",
       "      <td>This case takes so long to ship and it's not e...</td>\n",
       "      <td>1</td>\n",
       "    </tr>\n",
       "    <tr>\n",
       "      <th>2</th>\n",
       "      <td>Good for not droids. Not good for iPhones. You...</td>\n",
       "      <td>1</td>\n",
       "    </tr>\n",
       "    <tr>\n",
       "      <th>3</th>\n",
       "      <td>The cable was not compatible between my macboo...</td>\n",
       "      <td>1</td>\n",
       "    </tr>\n",
       "    <tr>\n",
       "      <th>4</th>\n",
       "      <td>The case is nice but did not have a glow light...</td>\n",
       "      <td>1</td>\n",
       "    </tr>\n",
       "  </tbody>\n",
       "</table>\n",
       "</div>"
      ],
      "text/plain": [
       "                                              Review  Sentiment\n",
       "0  Fast shipping but this product is very cheaply...          1\n",
       "1  This case takes so long to ship and it's not e...          1\n",
       "2  Good for not droids. Not good for iPhones. You...          1\n",
       "3  The cable was not compatible between my macboo...          1\n",
       "4  The case is nice but did not have a glow light...          1"
      ]
     },
     "execution_count": 19,
     "metadata": {},
     "output_type": "execute_result"
    }
   ],
   "source": [
    "# Importing the amazon reviews from csv file\n",
    "review_data = pd.read_csv(\"../data/AmazonReviews.csv\")\n",
    "review_data.head()"
   ]
  },
  {
   "cell_type": "code",
   "execution_count": 20,
   "metadata": {},
   "outputs": [],
   "source": [
    "# Creating a new table to store results in\n",
    "analysis_results = pd.DataFrame(columns=[\"Review\", \"Rating\", \"Vader_Neg\", \"Vader_Neu\", \"Vader_Pos\", \"Transformer_Neg\", \"Transformer_Neu\", \"Transformer_Pos\"])"
   ]
  },
  {
   "cell_type": "code",
   "execution_count": 21,
   "metadata": {},
   "outputs": [
    {
     "data": {
      "application/vnd.jupyter.widget-view+json": {
       "model_id": "56473c1d480941cd84aec1401261e5e6",
       "version_major": 2,
       "version_minor": 0
      },
      "text/plain": [
       "  0%|          | 0/25000 [00:00<?, ?it/s]"
      ]
     },
     "metadata": {},
     "output_type": "display_data"
    }
   ],
   "source": [
    "# Performing sentiment analysis on all the reviews using both the approaches and adding results to the new table\n",
    "\n",
    "for i, row in tqdm(review_data.iterrows(), total=len(review_data)):\n",
    "    try:\n",
    "        review = row[\"Review\"]\n",
    "        rating = row[\"Sentiment\"]\n",
    "\n",
    "        vader_results = do_analysis_vader(review)\n",
    "        transformer_result = do_analysis_transformer(review)\n",
    "\n",
    "        new_row = [review, rating, vader_results[\"neg\"], vader_results[\"neu\"], vader_results[\"pos\"], transformer_result[0], transformer_result[1], transformer_result[2]]\n",
    "        analysis_results.loc[len(analysis_results)] = new_row\n",
    "    except:\n",
    "        continue"
   ]
  },
  {
   "cell_type": "code",
   "execution_count": 22,
   "metadata": {},
   "outputs": [
    {
     "data": {
      "text/html": [
       "<div>\n",
       "<style scoped>\n",
       "    .dataframe tbody tr th:only-of-type {\n",
       "        vertical-align: middle;\n",
       "    }\n",
       "\n",
       "    .dataframe tbody tr th {\n",
       "        vertical-align: top;\n",
       "    }\n",
       "\n",
       "    .dataframe thead th {\n",
       "        text-align: right;\n",
       "    }\n",
       "</style>\n",
       "<table border=\"1\" class=\"dataframe\">\n",
       "  <thead>\n",
       "    <tr style=\"text-align: right;\">\n",
       "      <th></th>\n",
       "      <th>Review</th>\n",
       "      <th>Rating</th>\n",
       "      <th>Vader_Neg</th>\n",
       "      <th>Vader_Neu</th>\n",
       "      <th>Vader_Pos</th>\n",
       "      <th>Transformer_Neg</th>\n",
       "      <th>Transformer_Neu</th>\n",
       "      <th>Transformer_Pos</th>\n",
       "    </tr>\n",
       "  </thead>\n",
       "  <tbody>\n",
       "    <tr>\n",
       "      <th>0</th>\n",
       "      <td>Fast shipping but this product is very cheaply...</td>\n",
       "      <td>1</td>\n",
       "      <td>0.000</td>\n",
       "      <td>0.832</td>\n",
       "      <td>0.168</td>\n",
       "      <td>0.437809</td>\n",
       "      <td>0.343967</td>\n",
       "      <td>0.218224</td>\n",
       "    </tr>\n",
       "    <tr>\n",
       "      <th>1</th>\n",
       "      <td>This case takes so long to ship and it's not e...</td>\n",
       "      <td>1</td>\n",
       "      <td>0.168</td>\n",
       "      <td>0.832</td>\n",
       "      <td>0.000</td>\n",
       "      <td>0.950509</td>\n",
       "      <td>0.043460</td>\n",
       "      <td>0.006031</td>\n",
       "    </tr>\n",
       "    <tr>\n",
       "      <th>2</th>\n",
       "      <td>Good for not droids. Not good for iPhones. You...</td>\n",
       "      <td>1</td>\n",
       "      <td>0.000</td>\n",
       "      <td>0.845</td>\n",
       "      <td>0.155</td>\n",
       "      <td>0.594396</td>\n",
       "      <td>0.346952</td>\n",
       "      <td>0.058652</td>\n",
       "    </tr>\n",
       "    <tr>\n",
       "      <th>3</th>\n",
       "      <td>The cable was not compatible between my macboo...</td>\n",
       "      <td>1</td>\n",
       "      <td>0.000</td>\n",
       "      <td>1.000</td>\n",
       "      <td>0.000</td>\n",
       "      <td>0.883488</td>\n",
       "      <td>0.105966</td>\n",
       "      <td>0.010546</td>\n",
       "    </tr>\n",
       "    <tr>\n",
       "      <th>4</th>\n",
       "      <td>The case is nice but did not have a glow light...</td>\n",
       "      <td>1</td>\n",
       "      <td>0.180</td>\n",
       "      <td>0.738</td>\n",
       "      <td>0.082</td>\n",
       "      <td>0.874157</td>\n",
       "      <td>0.109985</td>\n",
       "      <td>0.015858</td>\n",
       "    </tr>\n",
       "  </tbody>\n",
       "</table>\n",
       "</div>"
      ],
      "text/plain": [
       "                                              Review  Rating  Vader_Neg  \\\n",
       "0  Fast shipping but this product is very cheaply...       1      0.000   \n",
       "1  This case takes so long to ship and it's not e...       1      0.168   \n",
       "2  Good for not droids. Not good for iPhones. You...       1      0.000   \n",
       "3  The cable was not compatible between my macboo...       1      0.000   \n",
       "4  The case is nice but did not have a glow light...       1      0.180   \n",
       "\n",
       "   Vader_Neu  Vader_Pos  Transformer_Neg  Transformer_Neu  Transformer_Pos  \n",
       "0      0.832      0.168         0.437809         0.343967         0.218224  \n",
       "1      0.832      0.000         0.950509         0.043460         0.006031  \n",
       "2      0.845      0.155         0.594396         0.346952         0.058652  \n",
       "3      1.000      0.000         0.883488         0.105966         0.010546  \n",
       "4      0.738      0.082         0.874157         0.109985         0.015858  "
      ]
     },
     "execution_count": 22,
     "metadata": {},
     "output_type": "execute_result"
    }
   ],
   "source": [
    "analysis_results.head()"
   ]
  },
  {
   "cell_type": "code",
   "execution_count": 23,
   "metadata": {},
   "outputs": [],
   "source": [
    "analysis_results.to_csv(\"../data/AnalysisResults.csv\")"
   ]
  },
  {
   "cell_type": "code",
   "execution_count": 24,
   "metadata": {},
   "outputs": [
    {
     "data": {
      "text/plain": [
       "24651"
      ]
     },
     "execution_count": 24,
     "metadata": {},
     "output_type": "execute_result"
    }
   ],
   "source": [
    "len(analysis_results)"
   ]
  },
  {
   "cell_type": "markdown",
   "metadata": {},
   "source": [
    "Few iterations fail because length of review causes issues"
   ]
  }
 ],
 "metadata": {
  "kernelspec": {
   "display_name": ".venv",
   "language": "python",
   "name": "python3"
  },
  "language_info": {
   "codemirror_mode": {
    "name": "ipython",
    "version": 3
   },
   "file_extension": ".py",
   "mimetype": "text/x-python",
   "name": "python",
   "nbconvert_exporter": "python",
   "pygments_lexer": "ipython3",
   "version": "3.12.4"
  }
 },
 "nbformat": 4,
 "nbformat_minor": 2
}
