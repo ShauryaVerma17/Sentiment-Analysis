{
 "cells": [
  {
   "cell_type": "markdown",
   "metadata": {},
   "source": [
    "### Importing Libraries"
   ]
  },
  {
   "cell_type": "code",
   "execution_count": 7,
   "metadata": {},
   "outputs": [],
   "source": [
    "import nltk\n",
    "from nltk.sentiment import SentimentIntensityAnalyzer\n",
    "#nltk.downloader.download('vader_lexicon')\n",
    "from transformers import AutoModelForSequenceClassification, AutoTokenizer\n",
    "from scipy.special import softmax\n",
    "import pandas as pd"
   ]
  },
  {
   "cell_type": "markdown",
   "metadata": {},
   "source": [
    "### Setting up the two approaches "
   ]
  },
  {
   "cell_type": "markdown",
   "metadata": {},
   "source": [
    "#### VADER"
   ]
  },
  {
   "cell_type": "code",
   "execution_count": 13,
   "metadata": {},
   "outputs": [],
   "source": [
    "sia = SentimentIntensityAnalyzer()\n",
    "\n",
    "def do_analysis_vader(text):\n",
    "    return sia.polarity_scores(text)"
   ]
  },
  {
   "cell_type": "markdown",
   "metadata": {},
   "source": [
    "#### Encoder Only Transformer Model"
   ]
  },
  {
   "cell_type": "code",
   "execution_count": 5,
   "metadata": {},
   "outputs": [
    {
     "name": "stderr",
     "output_type": "stream",
     "text": [
      "Some weights of the model checkpoint at cardiffnlp/twitter-roberta-base-sentiment-latest were not used when initializing RobertaForSequenceClassification: ['roberta.pooler.dense.bias', 'roberta.pooler.dense.weight']\n",
      "- This IS expected if you are initializing RobertaForSequenceClassification from the checkpoint of a model trained on another task or with another architecture (e.g. initializing a BertForSequenceClassification model from a BertForPreTraining model).\n",
      "- This IS NOT expected if you are initializing RobertaForSequenceClassification from the checkpoint of a model that you expect to be exactly identical (initializing a BertForSequenceClassification model from a BertForSequenceClassification model).\n"
     ]
    }
   ],
   "source": [
    "MODEL_NAME = f\"cardiffnlp/twitter-roberta-base-sentiment-latest\"\n",
    "tokenizer = AutoTokenizer.from_pretrained(MODEL_NAME)\n",
    "model = AutoModelForSequenceClassification.from_pretrained(MODEL_NAME)\n",
    "\n",
    "def do_analysis_transformer(text):\n",
    "    tokens = tokenizer(text, return_tensors='pt')\n",
    "    output = model(**tokens)\n",
    "    scores = output[0][0].detach().numpy()\n",
    "    scores = softmax(scores)\n",
    "    return scores"
   ]
  },
  {
   "cell_type": "markdown",
   "metadata": {},
   "source": [
    "### Method to Compare Approaches"
   ]
  },
  {
   "cell_type": "code",
   "execution_count": 25,
   "metadata": {},
   "outputs": [],
   "source": [
    "def compare_approaches(text):\n",
    "    vader_results = do_analysis_vader(text)\n",
    "    transformer_result = do_analysis_transformer(text)\n",
    "\n",
    "    results = {\"Category\" : [\"Negative\", \"Neutral\", \"Positive\"],\n",
    "               \"VADER\" : [vader_results[\"neg\"], vader_results[\"neu\"], vader_results[\"pos\"]],\n",
    "               \"Transformer\" : [transformer_result[0], transformer_result[1], transformer_result[2]]               \n",
    "               }\n",
    "    results_df = pd.DataFrame(results)\n",
    "\n",
    "    print(\"Text : \", text)\n",
    "    print(\"\\nResults\\n\", results_df)"
   ]
  },
  {
   "cell_type": "markdown",
   "metadata": {},
   "source": [
    "### Comparison"
   ]
  },
  {
   "cell_type": "markdown",
   "metadata": {},
   "source": [
    "#### Comparison using regular text messages"
   ]
  },
  {
   "cell_type": "code",
   "execution_count": 26,
   "metadata": {},
   "outputs": [
    {
     "name": "stdout",
     "output_type": "stream",
     "text": [
      "Text :  I fell in the mud today\n",
      "\n",
      "Results\n",
      "    Category  VADER  Transformer\n",
      "0  Negative    0.0     0.780168\n",
      "1   Neutral    1.0     0.199560\n",
      "2  Positive    0.0     0.020272\n"
     ]
    }
   ],
   "source": [
    "compare_approaches(\"I fell in the mud today\")"
   ]
  },
  {
   "cell_type": "code",
   "execution_count": 27,
   "metadata": {},
   "outputs": [
    {
     "name": "stdout",
     "output_type": "stream",
     "text": [
      "Text :  I hate my life\n",
      "\n",
      "Results\n",
      "    Category  VADER  Transformer\n",
      "0  Negative  0.649     0.854381\n",
      "1   Neutral  0.351     0.114677\n",
      "2  Positive  0.000     0.030941\n"
     ]
    }
   ],
   "source": [
    "compare_approaches(\"I hate my life\")"
   ]
  },
  {
   "cell_type": "code",
   "execution_count": 28,
   "metadata": {},
   "outputs": [
    {
     "name": "stdout",
     "output_type": "stream",
     "text": [
      "Text :  Oh Great! I lost\n",
      "\n",
      "Results\n",
      "    Category  VADER  Transformer\n",
      "0  Negative  0.299     0.844328\n",
      "1   Neutral  0.130     0.118721\n",
      "2  Positive  0.571     0.036952\n"
     ]
    }
   ],
   "source": [
    "compare_approaches(\"Oh Great! I lost\")"
   ]
  },
  {
   "cell_type": "code",
   "execution_count": 31,
   "metadata": {},
   "outputs": [
    {
     "name": "stdout",
     "output_type": "stream",
     "text": [
      "Text :  You're really not that funny\n",
      "\n",
      "Results\n",
      "    Category  VADER  Transformer\n",
      "0  Negative    0.4     0.889141\n",
      "1   Neutral    0.6     0.096598\n",
      "2  Positive    0.0     0.014261\n"
     ]
    }
   ],
   "source": [
    "compare_approaches(\"You're really not that funny\")"
   ]
  },
  {
   "cell_type": "code",
   "execution_count": 32,
   "metadata": {},
   "outputs": [
    {
     "name": "stdout",
     "output_type": "stream",
     "text": [
      "Text :  :)\n",
      "\n",
      "Results\n",
      "    Category  VADER  Transformer\n",
      "0  Negative    0.0     0.011871\n",
      "1   Neutral    0.0     0.046397\n",
      "2  Positive    1.0     0.941732\n"
     ]
    }
   ],
   "source": [
    "compare_approaches(\":)\")"
   ]
  },
  {
   "cell_type": "code",
   "execution_count": 33,
   "metadata": {},
   "outputs": [
    {
     "name": "stdout",
     "output_type": "stream",
     "text": [
      "Text :  :(\n",
      "\n",
      "Results\n",
      "    Category  VADER  Transformer\n",
      "0  Negative    1.0     0.654244\n",
      "1   Neutral    0.0     0.266964\n",
      "2  Positive    0.0     0.078792\n"
     ]
    }
   ],
   "source": [
    "compare_approaches(\":(\")"
   ]
  },
  {
   "cell_type": "code",
   "execution_count": 34,
   "metadata": {},
   "outputs": [
    {
     "name": "stdout",
     "output_type": "stream",
     "text": [
      "Text :  :D\n",
      "\n",
      "Results\n",
      "    Category  VADER  Transformer\n",
      "0  Negative    0.0     0.010884\n",
      "1   Neutral    0.0     0.051635\n",
      "2  Positive    1.0     0.937480\n"
     ]
    }
   ],
   "source": [
    "compare_approaches(\":D\")"
   ]
  },
  {
   "cell_type": "code",
   "execution_count": 35,
   "metadata": {},
   "outputs": [
    {
     "name": "stdout",
     "output_type": "stream",
     "text": [
      "Text :  I hate myself :)\n",
      "\n",
      "Results\n",
      "    Category  VADER  Transformer\n",
      "0  Negative  0.481     0.891915\n",
      "1   Neutral  0.130     0.087239\n",
      "2  Positive  0.390     0.020846\n"
     ]
    }
   ],
   "source": [
    "compare_approaches(\"I hate myself :)\")"
   ]
  },
  {
   "cell_type": "markdown",
   "metadata": {},
   "source": [
    "#### Comparison using data set of reviews"
   ]
  },
  {
   "cell_type": "markdown",
   "metadata": {},
   "source": []
  }
 ],
 "metadata": {
  "kernelspec": {
   "display_name": ".venv",
   "language": "python",
   "name": "python3"
  },
  "language_info": {
   "codemirror_mode": {
    "name": "ipython",
    "version": 3
   },
   "file_extension": ".py",
   "mimetype": "text/x-python",
   "name": "python",
   "nbconvert_exporter": "python",
   "pygments_lexer": "ipython3",
   "version": "3.12.4"
  }
 },
 "nbformat": 4,
 "nbformat_minor": 2
}
